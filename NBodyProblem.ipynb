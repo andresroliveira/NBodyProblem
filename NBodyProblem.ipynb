{
 "cells": [
  {
   "cell_type": "code",
   "execution_count": 1,
   "id": "0f0db494",
   "metadata": {},
   "outputs": [],
   "source": [
    "import numpy as np\n",
    "import matplotlib.pyplot as plt\n",
    "import pandas as pd\n",
    "from scipy.integrate import odeint\n",
    "%matplotlib inline"
   ]
  },
  {
   "cell_type": "code",
   "execution_count": 2,
   "id": "ce1791e3",
   "metadata": {},
   "outputs": [],
   "source": [
    "G = 1\n",
    "dt = 0.01\n",
    "t = np.arange(0, 10, dt)"
   ]
  },
  {
   "cell_type": "code",
   "execution_count": 3,
   "id": "6cf4a759",
   "metadata": {},
   "outputs": [
    {
     "data": {
      "text/html": [
       "<div>\n",
       "<style scoped>\n",
       "    .dataframe tbody tr th:only-of-type {\n",
       "        vertical-align: middle;\n",
       "    }\n",
       "\n",
       "    .dataframe tbody tr th {\n",
       "        vertical-align: top;\n",
       "    }\n",
       "\n",
       "    .dataframe thead th {\n",
       "        text-align: right;\n",
       "    }\n",
       "</style>\n",
       "<table border=\"1\" class=\"dataframe\">\n",
       "  <thead>\n",
       "    <tr style=\"text-align: right;\">\n",
       "      <th></th>\n",
       "      <th>x</th>\n",
       "      <th>y</th>\n",
       "      <th>vx</th>\n",
       "      <th>vy</th>\n",
       "      <th>m</th>\n",
       "    </tr>\n",
       "  </thead>\n",
       "  <tbody>\n",
       "    <tr>\n",
       "      <th>0</th>\n",
       "      <td>0</td>\n",
       "      <td>0</td>\n",
       "      <td>0</td>\n",
       "      <td>0</td>\n",
       "      <td>1</td>\n",
       "    </tr>\n",
       "    <tr>\n",
       "      <th>1</th>\n",
       "      <td>-1</td>\n",
       "      <td>0</td>\n",
       "      <td>0</td>\n",
       "      <td>-1</td>\n",
       "      <td>1</td>\n",
       "    </tr>\n",
       "    <tr>\n",
       "      <th>2</th>\n",
       "      <td>1</td>\n",
       "      <td>0</td>\n",
       "      <td>0</td>\n",
       "      <td>1</td>\n",
       "      <td>1</td>\n",
       "    </tr>\n",
       "  </tbody>\n",
       "</table>\n",
       "</div>"
      ],
      "text/plain": [
       "   x  y  vx  vy  m\n",
       "0  0  0   0   0  1\n",
       "1 -1  0   0  -1  1\n",
       "2  1  0   0   1  1"
      ]
     },
     "execution_count": 3,
     "metadata": {},
     "output_type": "execute_result"
    }
   ],
   "source": [
    "data = pd.read_csv('pvi.csv')\n",
    "data"
   ]
  },
  {
   "cell_type": "code",
   "execution_count": 4,
   "id": "18e3a56b",
   "metadata": {},
   "outputs": [],
   "source": [
    "# n = 3\n",
    "# b = np.array([2 * np.random.rand(2) - 1 for i in range(n)])\n",
    "# v = np.array([2 * np.random.rand(2) - 1 for i in range(n)])\n",
    "# a = np.zeros((n, 2))\n",
    "# m = 10 * np.random.rand(n)\n",
    "\n",
    "n = data.shape[0]\n",
    "b = np.array([list(data['x']), list(data['y'])], dtype='float').T\n",
    "v = np.array([list(data['vx']), list(data['vy'])], dtype='float').T\n",
    "m = np.array(data['m'], dtype='float')\n",
    "\n",
    "# n = 3\n",
    "# b = np.array([[0, 0], [-1, 0], [1, 0]], dtype = 'float')\n",
    "# v = np.array([[0, 0], [0, -1], [0, 1]], dtype = 'float')\n",
    "# m = np.array([1, 1, 1], dtype = 'float')"
   ]
  },
  {
   "cell_type": "code",
   "execution_count": 5,
   "id": "fde4ad4f",
   "metadata": {},
   "outputs": [],
   "source": [
    "def acceleration(pos1, pos2, m1, m2):\n",
    "    r = pos2 - pos1\n",
    "    a = (G * m2 / (np.linalg.norm(r)**3)) * r\n",
    "    return a\n",
    "\n",
    "\n",
    "def force(pos1, pos2, m1, m2):\n",
    "    r = pos2 - pos1\n",
    "    f = (G * m1 * m2 / (np.linalg.norm(r)**3)) * r\n",
    "    return f\n",
    "\n",
    "\n",
    "def update(pos, vel, acc):\n",
    "    vel += acc * dt\n",
    "    pos += vel * dt\n",
    "    return pos, vel"
   ]
  },
  {
   "cell_type": "code",
   "execution_count": 6,
   "id": "3e84c687",
   "metadata": {},
   "outputs": [],
   "source": [
    "# def show_points():\n",
    "#     plt.scatter(b.T[0], b.T[1], c=['red', 'green', 'blue'], s=10 * m)\n",
    "#     plt.xlim(-5, 5)\n",
    "#     plt.ylim(-5, 5)\n",
    "#     plt.show()\n",
    "\n",
    "\n",
    "# show_points()"
   ]
  },
  {
   "cell_type": "code",
   "execution_count": 7,
   "id": "7177f488",
   "metadata": {},
   "outputs": [],
   "source": [
    "# def animate(k):\n",
    "#     a = np.zeros((n, 2))\n",
    "#     for i in range(n):\n",
    "#         for j in range(n):\n",
    "#             if i != j:\n",
    "#                 a[i] += acceleration(b[i], b[j], m[i], m[j])\n",
    "#     for i in range(n):\n",
    "#         b[i], v[i] = update(b[i], v[i], a[i])"
   ]
  },
  {
   "cell_type": "code",
   "execution_count": 8,
   "id": "250de507",
   "metadata": {},
   "outputs": [],
   "source": [
    "for k in range(len(t)):\n",
    "#     animate(k)\n",
    "#     show_points()\n",
    "    break"
   ]
  },
  {
   "cell_type": "code",
   "execution_count": 9,
   "id": "aaf7a5e5",
   "metadata": {},
   "outputs": [],
   "source": [
    "def gravitation(S, t, n, m):\n",
    "    x = S[:n]\n",
    "    y = S[n:2 * n]\n",
    "    vx = S[2 * n:3 * n]\n",
    "    vy = S[3 * n:4 * n]\n",
    "\n",
    "    pos = np.array([x, y]).T\n",
    "    acc = np.zeros((n, 2))\n",
    "\n",
    "    for i in range(n):\n",
    "        for j in range(i + 1, n):\n",
    "            fij = force(pos[i], pos[j], m[i], m[j])\n",
    "            acc[i] += fij / m[i]\n",
    "            acc[j] -= fij / m[j]\n",
    "\n",
    "    return np.concatenate((vx, vy, acc[:, 0], acc[:, 1]))"
   ]
  },
  {
   "cell_type": "code",
   "execution_count": 10,
   "id": "ee1ba35e",
   "metadata": {},
   "outputs": [
    {
     "data": {
      "text/plain": [
       "array([ 1.e-04, -1.e+00,  1.e+00,  0.e+00,  0.e+00,  0.e+00,  0.e+00,\n",
       "        0.e+00,  0.e+00,  0.e+00, -1.e+00,  1.e+00])"
      ]
     },
     "execution_count": 10,
     "metadata": {},
     "output_type": "execute_result"
    }
   ],
   "source": [
    "S0 = np.concatenate((b[:, 0], b[:, 1], v[:, 0], v[:, 1]))\n",
    "S0[0] += 0.0001\n",
    "S0"
   ]
  },
  {
   "cell_type": "code",
   "execution_count": 11,
   "id": "dd659072",
   "metadata": {},
   "outputs": [
    {
     "data": {
      "text/plain": [
       "array([ 0.00000000e+00,  0.00000000e+00,  0.00000000e+00,  0.00000000e+00,\n",
       "       -1.00000000e+00,  1.00000000e+00,  4.00000008e-04,  1.24980003e+00,\n",
       "       -1.25020003e+00,  0.00000000e+00,  0.00000000e+00,  0.00000000e+00])"
      ]
     },
     "execution_count": 11,
     "metadata": {},
     "output_type": "execute_result"
    }
   ],
   "source": [
    "gravitation(S0, t, n, m)"
   ]
  },
  {
   "cell_type": "code",
   "execution_count": 12,
   "id": "ed7d29d9",
   "metadata": {},
   "outputs": [],
   "source": [
    "def state_to_pos(S):\n",
    "    x = S[:n]\n",
    "    y = S[n:2 * n]\n",
    "\n",
    "    pos = np.array([x, y]).T\n",
    "    return pos"
   ]
  },
  {
   "cell_type": "code",
   "execution_count": 13,
   "id": "dcc1e898",
   "metadata": {},
   "outputs": [
    {
     "data": {
      "text/plain": [
       "array([[ 1.e-04,  0.e+00],\n",
       "       [-1.e+00,  0.e+00],\n",
       "       [ 1.e+00,  0.e+00]])"
      ]
     },
     "execution_count": 13,
     "metadata": {},
     "output_type": "execute_result"
    }
   ],
   "source": [
    "state_to_pos(S0)"
   ]
  },
  {
   "cell_type": "code",
   "execution_count": 14,
   "id": "85476b06",
   "metadata": {},
   "outputs": [],
   "source": [
    "sol = odeint(gravitation, S0, t, args=(n, m))"
   ]
  },
  {
   "cell_type": "code",
   "execution_count": 15,
   "id": "915fa9b2",
   "metadata": {},
   "outputs": [],
   "source": [
    "x1 = sol[:,0]\n",
    "x2 = sol[:,1]\n",
    "x3 = sol[:,2]\n",
    "y1 = sol[:,3]\n",
    "y2 = sol[:,4]\n",
    "y3 = sol[:,5] "
   ]
  },
  {
   "cell_type": "code",
   "execution_count": 16,
   "id": "efb1313d",
   "metadata": {},
   "outputs": [
    {
     "data": {
      "image/png": "[encoded data removed]",
      "text/plain": [
       "<Figure size 432x288 with 1 Axes>"
      ]
     },
     "metadata": {
      "needs_background": "light"
     },
     "output_type": "display_data"
    }
   ],
   "source": [
    "plt.plot(x1, y1)\n",
    "plt.plot(x2, y2)\n",
    "plt.plot(x3, y3)\n",
    "plt.xlim(-5, 5)\n",
    "plt.ylim(-5, 5)\n",
    "plt.show()"
   ]
  },
  {
   "cell_type": "code",
   "execution_count": null,
   "id": "48d8f02c",
   "metadata": {},
   "outputs": [],
   "source": []
  }
 ],
 "metadata": {
  "kernelspec": {
   "display_name": "Python 3 (ipykernel)",
   "language": "python",
   "name": "python3"
  },
  "language_info": {
   "codemirror_mode": {
    "name": "ipython",
    "version": 3
   },
   "file_extension": ".py",
   "mimetype": "text/x-python",
   "name": "python",
   "nbconvert_exporter": "python",
   "pygments_lexer": "ipython3",
   "version": "3.10.5"
  }
 },
 "nbformat": 4,
 "nbformat_minor": 5
}
